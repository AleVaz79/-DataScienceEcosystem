{
 "cells": [
  {
   "cell_type": "markdown",
   "id": "2a221d8f-a247-4d7f-b649-bc274f34edcf",
   "metadata": {},
   "source": [
    "# Data Science Tools and Ecosystem"
   ]
  },
  {
   "cell_type": "markdown",
   "id": "8dce26e2-ccce-444c-8282-eb3ed9aef5df",
   "metadata": {},
   "source": [
    "***In this notebook, Data Science Tools and Ecosystem are summarized.*** "
   ]
  },
  {
   "cell_type": "markdown",
   "id": "9b098420-1bf6-4f90-bfc5-531b40b115bf",
   "metadata": {},
   "source": [
    "#### Some of the popular languages that Data Scientists use are:\n",
    "1. Phyton.\n",
    "2. R.\n",
    "3. SQL.\n"
   ]
  },
  {
   "cell_type": "markdown",
   "id": "a32a617b-c431-4285-8a5e-9eafc599715c",
   "metadata": {},
   "source": [
    "#### Some of the commonly used libraries used by Data Scientists include:\n",
    "1. Numpy.\n",
    "2. Pandas.\n",
    "3. Scikit-learn."
   ]
  },
  {
   "cell_type": "markdown",
   "id": "5addfe6b-4bd2-4397-af2a-a13a66f809be",
   "metadata": {},
   "source": [
    "|Data Science Tools | \n",
    "| ------ |  \n",
    "| Visual Studio | \n",
    "| Jupyter Notebook |\n",
    "| Google Colab | \n"
   ]
  },
  {
   "cell_type": "markdown",
   "id": "d8d1cd54-ad0c-40a1-9a0a-4ff99c1d5dc3",
   "metadata": {},
   "source": [
    "### Below are a few examples of evaluating arithmetic expressions in Python"
   ]
  },
  {
   "cell_type": "markdown",
   "id": "4091d370-4236-4cff-aa50-b35935fb4087",
   "metadata": {},
   "source": [
    "### This a simple arithmetic expression to mutiply then add integers"
   ]
  },
  {
   "cell_type": "code",
   "execution_count": 1,
   "id": "f3037a6f-7911-48ee-a421-924dea252661",
   "metadata": {},
   "outputs": [
    {
     "name": "stdout",
     "output_type": "stream",
     "text": [
      "17\n"
     ]
    }
   ],
   "source": [
    "a = 4\n",
    "b = 3\n",
    "c = 5\n",
    "d = (a * b) + c \n",
    "print (d)"
   ]
  },
  {
   "cell_type": "markdown",
   "id": "e2337013-b51d-4b5b-ba6f-894ad408802b",
   "metadata": {},
   "source": [
    "### This will convert 200 minutes to hours by diving by 60  "
   ]
  },
  {
   "cell_type": "code",
   "execution_count": 2,
   "id": "4853d205-9b12-4ccb-b568-d7abfb520263",
   "metadata": {},
   "outputs": [
    {
     "name": "stdout",
     "output_type": "stream",
     "text": [
      "3.3333333333333335\n"
     ]
    }
   ],
   "source": [
    "a = 200\n",
    "b = 60\n",
    "c = a / b\n",
    "print (c)"
   ]
  },
  {
   "cell_type": "markdown",
   "id": "113345e9-f283-466d-8538-8b1d5e768418",
   "metadata": {},
   "source": [
    "## In this notebook, Data Science Tools and Ecosystem are summarized\n",
    "### Objetives:\n",
    "- List popular languages for Data Science\n",
    "- Some of the popular languages that Data Scientists\n",
    "- Data Science Tools and Ecosystem"
   ]
  },
  {
   "cell_type": "markdown",
   "id": "fb5ce88d-51b4-4b08-9201-1e9ec6e1db79",
   "metadata": {},
   "source": [
    "## Author\n",
    "## Alejandro Vazquez Rivas\n",
    "| Date (YYYY-MM-DD)| Created By | \n",
    "| -----------------| ---------- | \n",
    "| 2024-06-28       | Alejandro Vazquez    | "
   ]
  }
 ],
 "metadata": {
  "kernelspec": {
   "display_name": "Python 3 (ipykernel)",
   "language": "python",
   "name": "python3"
  },
  "language_info": {
   "codemirror_mode": {
    "name": "ipython",
    "version": 3
   },
   "file_extension": ".py",
   "mimetype": "text/x-python",
   "name": "python",
   "nbconvert_exporter": "python",
   "pygments_lexer": "ipython3",
   "version": "3.11.7"
  }
 },
 "nbformat": 4,
 "nbformat_minor": 5
}
